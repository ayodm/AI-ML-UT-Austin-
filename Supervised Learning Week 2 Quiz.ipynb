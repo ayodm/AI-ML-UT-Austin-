{
 "cells": [
  {
   "cell_type": "code",
   "execution_count": 1,
   "id": "a1c77655",
   "metadata": {
    "scrolled": true
   },
   "outputs": [],
   "source": [
    "\n",
    "\n",
    "\n",
    "#KickStarterProjects.csv"
   ]
  },
  {
   "cell_type": "code",
   "execution_count": 2,
   "id": "fb98126e",
   "metadata": {
    "scrolled": true
   },
   "outputs": [],
   "source": [
    "import pandas as pd\n",
    "import numpy as np\n",
    "\n",
    "import matplotlib.pyplot as plt\n",
    "import seaborn as sns\n",
    "\n",
    "# Removes the limit from the number of displayed columns and rows.\n",
    "# This is so I can see the entire dataframe when I print it\n",
    "pd.set_option('display.max_columns', None)\n",
    "# pd.set_option('display.max_rows', None)\n",
    "pd.set_option('display.max_rows', 200)"
   ]
  },
  {
   "cell_type": "code",
   "execution_count": 3,
   "id": "c6d17472",
   "metadata": {
    "scrolled": true
   },
   "outputs": [],
   "source": [
    "df = pd.read_csv(\"KickStarterProjects.csv\")\n",
    "df1 = pd.read_csv(\"KickStarterProjects.csv\")\n",
    "#print(f'There are {df.shape[0]} rows and {df.shape[1]} columns.')  # f-string\n",
    "\n",
    "# I'm now going to look at 10 random rows\n",
    "# I'm setting the random seed via np.random.seed so that\n",
    "# I get the same random results every time\n",
    "#np.random.seed(1)\n",
    "#df.sample(n=10)"
   ]
  },
  {
   "cell_type": "code",
   "execution_count": 4,
   "id": "5b723f7d",
   "metadata": {
    "scrolled": true
   },
   "outputs": [],
   "source": [
    "df.drop(['currency', 'goal'], axis=1, inplace=True)"
   ]
  },
  {
   "cell_type": "code",
   "execution_count": 5,
   "id": "1574ffee",
   "metadata": {
    "scrolled": false
   },
   "outputs": [
    {
     "name": "stdout",
     "output_type": "stream",
     "text": [
      "<class 'pandas.core.frame.DataFrame'>\n",
      "RangeIndex: 378661 entries, 0 to 378660\n",
      "Data columns (total 12 columns):\n",
      " #   Column            Non-Null Count   Dtype  \n",
      "---  ------            --------------   -----  \n",
      " 0   ID                378661 non-null  int64  \n",
      " 1   name              378657 non-null  object \n",
      " 2   subcategory       378661 non-null  object \n",
      " 3   category          378661 non-null  object \n",
      " 4   deadline          378661 non-null  object \n",
      " 5   launched          378661 non-null  object \n",
      " 6   pledged           378661 non-null  float64\n",
      " 7   state             378661 non-null  object \n",
      " 8   backers           378661 non-null  int64  \n",
      " 9   country           378661 non-null  object \n",
      " 10  usd_pledged_real  378661 non-null  float64\n",
      " 11  usd_goal_real     378661 non-null  float64\n",
      "dtypes: float64(3), int64(2), object(7)\n",
      "memory usage: 34.7+ MB\n"
     ]
    }
   ],
   "source": [
    "df.info()"
   ]
  },
  {
   "cell_type": "code",
   "execution_count": 6,
   "id": "c6fa69c4",
   "metadata": {
    "scrolled": true
   },
   "outputs": [
    {
     "name": "stdout",
     "output_type": "stream",
     "text": [
      "name\n",
      "    IT’S A HOT CAPPUCCINO NIGHT                                 1\n",
      "  \"Pastriology\": a global documentary                           1\n",
      "  15   A Feature Length Film (Canceled)                         1\n",
      " \"A Fine Mess.\" A Television Sitcom Pilot                       1\n",
      " \"A TERRIBLE LIE,\" a new play by Jim Reyland                    1\n",
      "                                                               ..\n",
      "•LiveJackets (Prototype 2)                                      1\n",
      "•Tales of Terrene: Book One•                                    1\n",
      "••• New Music and Video Art ••• CD/DVD project •••              1\n",
      "‹Darf ich vorstellen? May I introduce?› Kinderbuch Kidsbook     1\n",
      "€9 Universal Remote Control App for kid mum dad grandparents    1\n",
      "Length: 375722, dtype: int64\n"
     ]
    }
   ],
   "source": [
    "dups = df1.pivot_table(index = ['name'], aggfunc='size')\n",
    "print(dups)"
   ]
  },
  {
   "cell_type": "code",
   "execution_count": 7,
   "id": "132855be",
   "metadata": {
    "scrolled": true
   },
   "outputs": [
    {
     "data": {
      "text/plain": [
       "ID                  0\n",
       "name                4\n",
       "subcategory         0\n",
       "category            0\n",
       "deadline            0\n",
       "launched            0\n",
       "pledged             0\n",
       "state               0\n",
       "backers             0\n",
       "country             0\n",
       "usd_pledged_real    0\n",
       "usd_goal_real       0\n",
       "dtype: int64"
      ]
     },
     "execution_count": 7,
     "metadata": {},
     "output_type": "execute_result"
    }
   ],
   "source": [
    "df.isnull().sum()"
   ]
  },
  {
   "cell_type": "code",
   "execution_count": 8,
   "id": "5b4d8388",
   "metadata": {
    "scrolled": true
   },
   "outputs": [],
   "source": [
    "df.dropna(axis=1, how='any', inplace=True)"
   ]
  },
  {
   "cell_type": "code",
   "execution_count": 9,
   "id": "1c8c735e",
   "metadata": {
    "scrolled": true
   },
   "outputs": [
    {
     "name": "stdout",
     "output_type": "stream",
     "text": [
      "<class 'pandas.core.frame.DataFrame'>\n",
      "RangeIndex: 378661 entries, 0 to 378660\n",
      "Data columns (total 11 columns):\n",
      " #   Column            Non-Null Count   Dtype  \n",
      "---  ------            --------------   -----  \n",
      " 0   ID                378661 non-null  int64  \n",
      " 1   subcategory       378661 non-null  object \n",
      " 2   category          378661 non-null  object \n",
      " 3   deadline          378661 non-null  object \n",
      " 4   launched          378661 non-null  object \n",
      " 5   pledged           378661 non-null  float64\n",
      " 6   state             378661 non-null  object \n",
      " 7   backers           378661 non-null  int64  \n",
      " 8   country           378661 non-null  object \n",
      " 9   usd_pledged_real  378661 non-null  float64\n",
      " 10  usd_goal_real     378661 non-null  float64\n",
      "dtypes: float64(3), int64(2), object(6)\n",
      "memory usage: 31.8+ MB\n"
     ]
    }
   ],
   "source": [
    "df.info()"
   ]
  },
  {
   "cell_type": "code",
   "execution_count": 10,
   "id": "d70aaac1",
   "metadata": {
    "scrolled": true
   },
   "outputs": [
    {
     "data": {
      "text/plain": [
       "ID                  0\n",
       "subcategory         0\n",
       "category            0\n",
       "deadline            0\n",
       "launched            0\n",
       "pledged             0\n",
       "state               0\n",
       "backers             0\n",
       "country             0\n",
       "usd_pledged_real    0\n",
       "usd_goal_real       0\n",
       "dtype: int64"
      ]
     },
     "execution_count": 10,
     "metadata": {},
     "output_type": "execute_result"
    }
   ],
   "source": [
    "df.isnull().sum()"
   ]
  },
  {
   "cell_type": "code",
   "execution_count": 11,
   "id": "c789dcff",
   "metadata": {
    "scrolled": true
   },
   "outputs": [
    {
     "data": {
      "text/html": [
       "<div>\n",
       "<style scoped>\n",
       "    .dataframe tbody tr th:only-of-type {\n",
       "        vertical-align: middle;\n",
       "    }\n",
       "\n",
       "    .dataframe tbody tr th {\n",
       "        vertical-align: top;\n",
       "    }\n",
       "\n",
       "    .dataframe thead th {\n",
       "        text-align: right;\n",
       "    }\n",
       "</style>\n",
       "<table border=\"1\" class=\"dataframe\">\n",
       "  <thead>\n",
       "    <tr style=\"text-align: right;\">\n",
       "      <th></th>\n",
       "      <th>count</th>\n",
       "      <th>mean</th>\n",
       "      <th>std</th>\n",
       "      <th>min</th>\n",
       "      <th>25%</th>\n",
       "      <th>50%</th>\n",
       "      <th>75%</th>\n",
       "      <th>max</th>\n",
       "    </tr>\n",
       "  </thead>\n",
       "  <tbody>\n",
       "    <tr>\n",
       "      <th>ID</th>\n",
       "      <td>378661.0</td>\n",
       "      <td>1.074731e+09</td>\n",
       "      <td>6.190862e+08</td>\n",
       "      <td>5971.00</td>\n",
       "      <td>538263516.0</td>\n",
       "      <td>1.075276e+09</td>\n",
       "      <td>1.610149e+09</td>\n",
       "      <td>2.147476e+09</td>\n",
       "    </tr>\n",
       "    <tr>\n",
       "      <th>pledged</th>\n",
       "      <td>378661.0</td>\n",
       "      <td>9.682979e+03</td>\n",
       "      <td>9.563601e+04</td>\n",
       "      <td>0.00</td>\n",
       "      <td>30.0</td>\n",
       "      <td>6.200000e+02</td>\n",
       "      <td>4.076000e+03</td>\n",
       "      <td>2.033899e+07</td>\n",
       "    </tr>\n",
       "    <tr>\n",
       "      <th>backers</th>\n",
       "      <td>378661.0</td>\n",
       "      <td>1.056175e+02</td>\n",
       "      <td>9.071850e+02</td>\n",
       "      <td>0.00</td>\n",
       "      <td>2.0</td>\n",
       "      <td>1.200000e+01</td>\n",
       "      <td>5.600000e+01</td>\n",
       "      <td>2.193820e+05</td>\n",
       "    </tr>\n",
       "    <tr>\n",
       "      <th>usd_pledged_real</th>\n",
       "      <td>378661.0</td>\n",
       "      <td>9.058924e+03</td>\n",
       "      <td>9.097334e+04</td>\n",
       "      <td>0.00</td>\n",
       "      <td>31.0</td>\n",
       "      <td>6.243300e+02</td>\n",
       "      <td>4.050000e+03</td>\n",
       "      <td>2.033899e+07</td>\n",
       "    </tr>\n",
       "    <tr>\n",
       "      <th>usd_goal_real</th>\n",
       "      <td>378661.0</td>\n",
       "      <td>4.545440e+04</td>\n",
       "      <td>1.152950e+06</td>\n",
       "      <td>0.01</td>\n",
       "      <td>2000.0</td>\n",
       "      <td>5.500000e+03</td>\n",
       "      <td>1.550000e+04</td>\n",
       "      <td>1.663614e+08</td>\n",
       "    </tr>\n",
       "  </tbody>\n",
       "</table>\n",
       "</div>"
      ],
      "text/plain": [
       "                     count          mean           std      min          25%  \\\n",
       "ID                378661.0  1.074731e+09  6.190862e+08  5971.00  538263516.0   \n",
       "pledged           378661.0  9.682979e+03  9.563601e+04     0.00         30.0   \n",
       "backers           378661.0  1.056175e+02  9.071850e+02     0.00          2.0   \n",
       "usd_pledged_real  378661.0  9.058924e+03  9.097334e+04     0.00         31.0   \n",
       "usd_goal_real     378661.0  4.545440e+04  1.152950e+06     0.01       2000.0   \n",
       "\n",
       "                           50%           75%           max  \n",
       "ID                1.075276e+09  1.610149e+09  2.147476e+09  \n",
       "pledged           6.200000e+02  4.076000e+03  2.033899e+07  \n",
       "backers           1.200000e+01  5.600000e+01  2.193820e+05  \n",
       "usd_pledged_real  6.243300e+02  4.050000e+03  2.033899e+07  \n",
       "usd_goal_real     5.500000e+03  1.550000e+04  1.663614e+08  "
      ]
     },
     "execution_count": 11,
     "metadata": {},
     "output_type": "execute_result"
    }
   ],
   "source": [
    "df.describe().T"
   ]
  },
  {
   "cell_type": "code",
   "execution_count": 12,
   "id": "89e46972",
   "metadata": {
    "scrolled": true
   },
   "outputs": [
    {
     "name": "stdout",
     "output_type": "stream",
     "text": [
      "Product Design    22314\n",
      "Documentary       16139\n",
      "Music             15727\n",
      "Tabletop Games    14180\n",
      "Shorts            12357\n",
      "Video Games       11830\n",
      "Food              11493\n",
      "Film & Video      10108\n",
      "Fiction            9169\n",
      "Fashion            8554\n",
      "Name: subcategory, dtype: int64\n",
      "Only displaying first 10 of 159 values.\n",
      "\n",
      "\n",
      "\n",
      "Film & Video    63585\n",
      "Music           51918\n",
      "Publishing      39874\n",
      "Games           35231\n",
      "Technology      32569\n",
      "Design          30070\n",
      "Art             28153\n",
      "Food            24602\n",
      "Fashion         22816\n",
      "Theater         10913\n",
      "Name: category, dtype: int64\n",
      "Only displaying first 10 of 15 values.\n",
      "\n",
      "\n",
      "\n",
      "08-08-2014    705\n",
      "10-08-2014    558\n",
      "07-08-2014    541\n",
      "01-05-2015    489\n",
      "09-08-2014    477\n",
      "01-07-2015    449\n",
      "01-04-2015    430\n",
      "15-08-2014    423\n",
      "31-08-2014    420\n",
      "14-08-2014    413\n",
      "Name: deadline, dtype: int64\n",
      "Only displaying first 10 of 3164 values.\n",
      "\n",
      "\n",
      "\n",
      "20-06-2017 16:00    15\n",
      "13-11-2013 00:02     8\n",
      "01-11-2016 16:00     8\n",
      "11-07-2014 21:15     7\n",
      "01-01-1970 01:00     7\n",
      "04-10-2016 18:00     7\n",
      "09-07-2014 23:00     6\n",
      "11-07-2014 21:14     6\n",
      "11-07-2014 21:16     6\n",
      "21-07-2014 21:57     6\n",
      "Name: launched, dtype: int64\n",
      "Only displaying first 10 of 347035 values.\n",
      "\n",
      "\n",
      "\n",
      "failed        197719\n",
      "successful    133956\n",
      "canceled       38779\n",
      "undefined       3562\n",
      "live            2799\n",
      "suspended       1846\n",
      "Name: state, dtype: int64\n",
      "\n",
      "\n",
      "\n",
      "US      292627\n",
      "GB       33672\n",
      "CA       14756\n",
      "AU        7839\n",
      "DE        4171\n",
      "N,0\"      3797\n",
      "FR        2939\n",
      "IT        2878\n",
      "NL        2868\n",
      "ES        2276\n",
      "Name: country, dtype: int64\n",
      "Only displaying first 10 of 23 values.\n",
      "\n",
      "\n",
      "\n"
     ]
    }
   ],
   "source": [
    "# looking at value counts for non-numeric features\n",
    "\n",
    "num_to_display = 10  # defining this up here so it's easy to change later if I want\n",
    "for colname in df.dtypes[df.dtypes == 'object'].index:\n",
    "    val_counts = df[colname].value_counts(dropna=False)  # i want to see NA counts\n",
    "    print(val_counts[:num_to_display])\n",
    "    if len(val_counts) > num_to_display:\n",
    "        print(f'Only displaying first {num_to_display} of {len(val_counts)} values.')\n",
    "    print('\\n\\n') # just for more space between "
   ]
  },
  {
   "cell_type": "code",
   "execution_count": 13,
   "id": "369d7dc6",
   "metadata": {
    "scrolled": true
   },
   "outputs": [
    {
     "data": {
      "image/png": "[encoded data removed]",
      "text/plain": [
       "<Figure size 432x288 with 1 Axes>"
      ]
     },
     "metadata": {
      "needs_background": "light"
     },
     "output_type": "display_data"
    }
   ],
   "source": [
    "df['state'].hist(bins=20)\n",
    "plt.show()"
   ]
  },
  {
   "cell_type": "code",
   "execution_count": 14,
   "id": "8fec130a",
   "metadata": {
    "scrolled": true
   },
   "outputs": [
    {
     "data": {
      "text/html": [
       "<div>\n",
       "<style scoped>\n",
       "    .dataframe tbody tr th:only-of-type {\n",
       "        vertical-align: middle;\n",
       "    }\n",
       "\n",
       "    .dataframe tbody tr th {\n",
       "        vertical-align: top;\n",
       "    }\n",
       "\n",
       "    .dataframe thead th {\n",
       "        text-align: right;\n",
       "    }\n",
       "</style>\n",
       "<table border=\"1\" class=\"dataframe\">\n",
       "  <thead>\n",
       "    <tr style=\"text-align: right;\">\n",
       "      <th></th>\n",
       "      <th>ID</th>\n",
       "      <th>subcategory</th>\n",
       "      <th>category</th>\n",
       "      <th>deadline</th>\n",
       "      <th>launched</th>\n",
       "      <th>pledged</th>\n",
       "      <th>state</th>\n",
       "      <th>backers</th>\n",
       "      <th>country</th>\n",
       "      <th>usd_pledged_real</th>\n",
       "      <th>usd_goal_real</th>\n",
       "    </tr>\n",
       "  </thead>\n",
       "  <tbody>\n",
       "    <tr>\n",
       "      <th>174429</th>\n",
       "      <td>1887116272</td>\n",
       "      <td>Photography</td>\n",
       "      <td>Photography</td>\n",
       "      <td>22-11-2013</td>\n",
       "      <td>23-10-2013 21:24</td>\n",
       "      <td>11.00</td>\n",
       "      <td>failed</td>\n",
       "      <td>2</td>\n",
       "      <td>US</td>\n",
       "      <td>11.00</td>\n",
       "      <td>4000.00</td>\n",
       "    </tr>\n",
       "    <tr>\n",
       "      <th>94854</th>\n",
       "      <td>1482093205</td>\n",
       "      <td>Graphic Novels</td>\n",
       "      <td>Comics</td>\n",
       "      <td>03-12-2015</td>\n",
       "      <td>03-11-2015 12:50</td>\n",
       "      <td>7283.34</td>\n",
       "      <td>successful</td>\n",
       "      <td>183</td>\n",
       "      <td>GB</td>\n",
       "      <td>11026.68</td>\n",
       "      <td>6812.81</td>\n",
       "    </tr>\n",
       "    <tr>\n",
       "      <th>17470</th>\n",
       "      <td>1088716075</td>\n",
       "      <td>Public Art</td>\n",
       "      <td>Art</td>\n",
       "      <td>01-08-2017</td>\n",
       "      <td>02-06-2017 16:02</td>\n",
       "      <td>756.00</td>\n",
       "      <td>successful</td>\n",
       "      <td>11</td>\n",
       "      <td>US</td>\n",
       "      <td>756.00</td>\n",
       "      <td>25.00</td>\n",
       "    </tr>\n",
       "    <tr>\n",
       "      <th>45692</th>\n",
       "      <td>1232248478</td>\n",
       "      <td>Music</td>\n",
       "      <td>Music</td>\n",
       "      <td>13-05-2016</td>\n",
       "      <td>12-04-2016 16:58</td>\n",
       "      <td>160.00</td>\n",
       "      <td>failed</td>\n",
       "      <td>4</td>\n",
       "      <td>US</td>\n",
       "      <td>160.00</td>\n",
       "      <td>900.00</td>\n",
       "    </tr>\n",
       "    <tr>\n",
       "      <th>109062</th>\n",
       "      <td>1554281412</td>\n",
       "      <td>Painting</td>\n",
       "      <td>Art</td>\n",
       "      <td>23-10-2015</td>\n",
       "      <td>20-09-2015 16:44</td>\n",
       "      <td>3764.33</td>\n",
       "      <td>successful</td>\n",
       "      <td>24</td>\n",
       "      <td>US</td>\n",
       "      <td>3764.33</td>\n",
       "      <td>3333.00</td>\n",
       "    </tr>\n",
       "  </tbody>\n",
       "</table>\n",
       "</div>"
      ],
      "text/plain": [
       "                ID     subcategory     category    deadline          launched  \\\n",
       "174429  1887116272     Photography  Photography  22-11-2013  23-10-2013 21:24   \n",
       "94854   1482093205  Graphic Novels       Comics  03-12-2015  03-11-2015 12:50   \n",
       "17470   1088716075      Public Art          Art  01-08-2017  02-06-2017 16:02   \n",
       "45692   1232248478           Music        Music  13-05-2016  12-04-2016 16:58   \n",
       "109062  1554281412        Painting          Art  23-10-2015  20-09-2015 16:44   \n",
       "\n",
       "        pledged       state  backers country  usd_pledged_real  usd_goal_real  \n",
       "174429    11.00      failed        2      US             11.00        4000.00  \n",
       "94854   7283.34  successful      183      GB          11026.68        6812.81  \n",
       "17470    756.00  successful       11      US            756.00          25.00  \n",
       "45692    160.00      failed        4      US            160.00         900.00  \n",
       "109062  3764.33  successful       24      US           3764.33        3333.00  "
      ]
     },
     "execution_count": 14,
     "metadata": {},
     "output_type": "execute_result"
    }
   ],
   "source": [
    "df.sample(n=5)"
   ]
  },
  {
   "cell_type": "code",
   "execution_count": 15,
   "id": "19836e2a",
   "metadata": {
    "scrolled": true
   },
   "outputs": [
    {
     "data": {
      "text/plain": [
       "count    3.786610e+05\n",
       "mean     4.545440e+04\n",
       "std      1.152950e+06\n",
       "min      1.000000e-02\n",
       "25%      2.000000e+03\n",
       "50%      5.500000e+03\n",
       "75%      1.550000e+04\n",
       "max      1.663614e+08\n",
       "Name: usd_goal_real, dtype: float64"
      ]
     },
     "execution_count": 15,
     "metadata": {},
     "output_type": "execute_result"
    }
   ],
   "source": [
    "df['usd_goal_real'].describe()\n"
   ]
  },
  {
   "cell_type": "code",
   "execution_count": 16,
   "id": "f4296409",
   "metadata": {
    "scrolled": true
   },
   "outputs": [
    {
     "name": "stderr",
     "output_type": "stream",
     "text": [
      "/opt/anaconda3/lib/python3.8/site-packages/seaborn/_decorators.py:36: FutureWarning: Pass the following variable as a keyword arg: x. From version 0.12, the only valid positional argument will be `data`, and passing other arguments without an explicit keyword will result in an error or misinterpretation.\n",
      "  warnings.warn(\n"
     ]
    },
    {
     "data": {
      "image/png": "[encoded data removed]",
      "text/plain": [
       "<Figure size 432x288 with 1 Axes>"
      ]
     },
     "metadata": {
      "needs_background": "light"
     },
     "output_type": "display_data"
    }
   ],
   "source": [
    "sns.boxplot(df['usd_goal_real'])\n",
    "plt.show()\n"
   ]
  },
  {
   "cell_type": "code",
   "execution_count": 17,
   "id": "3f5af753",
   "metadata": {
    "scrolled": true
   },
   "outputs": [
    {
     "name": "stdout",
     "output_type": "stream",
     "text": [
      "12.0\n"
     ]
    }
   ],
   "source": [
    "print(np.median(df['backers']))"
   ]
  },
  {
   "cell_type": "code",
   "execution_count": 18,
   "id": "d794390d",
   "metadata": {
    "scrolled": true
   },
   "outputs": [],
   "source": [
    "from sklearn.preprocessing import StandardScaler, MinMaxScaler\n"
   ]
  },
  {
   "cell_type": "code",
   "execution_count": 19,
   "id": "abf53b97",
   "metadata": {
    "scrolled": true
   },
   "outputs": [],
   "source": [
    "#std_scaler = StandardScaler()\n",
    "\n",
    "#df['usd_goal_real'].hist(bins=20)\n",
    "#plt.title('USD goal before z transformation')\n",
    "#plt.show()\n",
    "\n",
    "\n",
    "#df['backers_z_std']=df['backers'].std\n",
    "#df['usd_goal_real'] = std_scaler.fit_transform(df[['usd_goal_real']])\n",
    "#df['usd_goal_real'].hist(bins=20)\n",
    "#plt.title('USD Goal after z transformation')\n",
    "#plt.show()"
   ]
  },
  {
   "cell_type": "code",
   "execution_count": 20,
   "id": "787bf652",
   "metadata": {
    "scrolled": true
   },
   "outputs": [
    {
     "data": {
      "image/png": "[encoded data removed]",
      "text/plain": [
       "<Figure size 432x288 with 1 Axes>"
      ]
     },
     "metadata": {
      "needs_background": "light"
     },
     "output_type": "display_data"
    },
    {
     "data": {
      "image/png": "[encoded data removed]",
      "text/plain": [
       "<Figure size 432x288 with 1 Axes>"
      ]
     },
     "metadata": {
      "needs_background": "light"
     },
     "output_type": "display_data"
    }
   ],
   "source": [
    "df['usd_goal_real'].hist(bins=20)\n",
    "plt.title('usd_goal_real before min-max scaling')\n",
    "plt.show()\n",
    "\n",
    "df[['usd_goal_real']] = MinMaxScaler().fit_transform(df[['usd_goal_real']])\n",
    "\n",
    "df['usd_goal_real'].hist(bins=20)\n",
    "plt.title('USD Goal')\n",
    "plt.show()"
   ]
  },
  {
   "cell_type": "code",
   "execution_count": 21,
   "id": "1aae99c8",
   "metadata": {
    "scrolled": true
   },
   "outputs": [
    {
     "ename": "SyntaxError",
     "evalue": "invalid syntax (<ipython-input-21-2388e78c2e2f>, line 6)",
     "output_type": "error",
     "traceback": [
      "\u001b[0;36m  File \u001b[0;32m\"<ipython-input-21-2388e78c2e2f>\"\u001b[0;36m, line \u001b[0;32m6\u001b[0m\n\u001b[0;31m    3    print(np.sum(df[colname] <=0))\u001b[0m\n\u001b[0m         ^\u001b[0m\n\u001b[0;31mSyntaxError\u001b[0m\u001b[0;31m:\u001b[0m invalid syntax\n"
     ]
    }
   ],
   "source": [
    "cols_to_log = ['usd_goal_real']\n",
    "for colname in cols_to_log: \n",
    "    plt.hist(df[colname], bins=50)\n",
    "    plt.title(colname)\n",
    "    plt.show()\n",
    "3    print(np.sum(df[colname] <=0))"
   ]
  },
  {
   "cell_type": "code",
   "execution_count": null,
   "id": "8af46716",
   "metadata": {
    "scrolled": true
   },
   "outputs": [],
   "source": [
    "#plt.hist(df['launched'])\n",
    "#plt.show()"
   ]
  },
  {
   "cell_type": "code",
   "execution_count": null,
   "id": "7ce817f5",
   "metadata": {
    "scrolled": true
   },
   "outputs": [],
   "source": [
    "df['launched'] = pd.to_datetime(df['launched'])\n",
    "df['launched month'] = df['launched'].dt.month\n",
    "print(min(df['launched']), max(df['launched']))\n",
    "df['launched'].head()"
   ]
  },
  {
   "cell_type": "code",
   "execution_count": null,
   "id": "d18c55fa",
   "metadata": {
    "scrolled": true
   },
   "outputs": [],
   "source": [
    "print(min(df['launched month']), max(df['launched month']))"
   ]
  },
  {
   "cell_type": "code",
   "execution_count": null,
   "id": "bf56570a",
   "metadata": {
    "scrolled": true
   },
   "outputs": [],
   "source": [
    "plt.hist(df['launched month'])\n",
    "plt.show()\n",
    "\n"
   ]
  },
  {
   "cell_type": "code",
   "execution_count": null,
   "id": "082d2447",
   "metadata": {
    "scrolled": true
   },
   "outputs": [],
   "source": [
    "df['name'].unique()\n"
   ]
  },
  {
   "cell_type": "code",
   "execution_count": null,
   "id": "ddea822a",
   "metadata": {
    "scrolled": true
   },
   "outputs": [],
   "source": []
  }
 ],
 "metadata": {
  "kernelspec": {
   "display_name": "Python 3",
   "language": "python",
   "name": "python3"
  },
  "language_info": {
   "codemirror_mode": {
    "name": "ipython",
    "version": 3
   },
   "file_extension": ".py",
   "mimetype": "text/x-python",
   "name": "python",
   "nbconvert_exporter": "python",
   "pygments_lexer": "ipython3",
   "version": "3.8.8"
  }
 },
 "nbformat": 4,
 "nbformat_minor": 5
}
