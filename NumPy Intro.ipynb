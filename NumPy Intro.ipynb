{
 "cells": [
  {
   "cell_type": "code",
   "execution_count": 1,
   "metadata": {},
   "outputs": [],
   "source": [
    "import numpy as np"
   ]
  },
  {
   "cell_type": "code",
   "execution_count": 2,
   "metadata": {},
   "outputs": [
    {
     "name": "stdout",
     "output_type": "stream",
     "text": [
      "-1.0\n",
      "1.1\n",
      "5.2\n"
     ]
    }
   ],
   "source": [
    "print(np.cos(np.pi))\n",
    "print(np.sqrt(1.21))\n",
    "print(np.log(np.exp(5.2)))"
   ]
  },
  {
   "cell_type": "code",
   "execution_count": 3,
   "metadata": {},
   "outputs": [
    {
     "name": "stdout",
     "output_type": "stream",
     "text": [
      "[1 2 3]\n",
      "\n",
      "[[1 2 1]\n",
      " [4 5 9]\n",
      " [1 8 9]]\n",
      "\n",
      "[[1 4 1]\n",
      " [2 5 8]\n",
      " [1 9 9]]\n"
     ]
    }
   ],
   "source": [
    "# we can create numpy arrays by converting lists \n",
    "# This is a vector\n",
    "\n",
    "vec = np.array([1,2,3])\n",
    "print(vec)\n",
    "# we can create matrices by converting lists of lists \n",
    "mat = np.array([[1,2,1],[4,5,9],[1,8,9]])\n",
    "print('')\n",
    "print(mat)\n",
    "print('')\n",
    "print(mat.T) # calculate the transpose of the matrice"
   ]
  },
  {
   "cell_type": "code",
   "execution_count": 4,
   "metadata": {},
   "outputs": [
    {
     "name": "stdout",
     "output_type": "stream",
     "text": [
      "[ 0  1  2  3  4  5  6  7  8  9 10 11 12 13 14]\n",
      "\n",
      "[ 3  9 15]\n"
     ]
    }
   ],
   "source": [
    "vec2 = np.arange(0,15)\n",
    "print(vec2)\n",
    "print('')\n",
    "vec3  = np.arange(3,21,6)\n",
    "print(vec3)"
   ]
  },
  {
   "cell_type": "code",
   "execution_count": 5,
   "metadata": {},
   "outputs": [
    {
     "name": "stdout",
     "output_type": "stream",
     "text": [
      "[0.         0.55555556 1.11111111 1.66666667 2.22222222 2.77777778\n",
      " 3.33333333 3.88888889 4.44444444 5.        ]\n",
      "\n",
      "[[0.         0.55555556]\n",
      " [1.11111111 1.66666667]\n",
      " [2.22222222 2.77777778]\n",
      " [3.33333333 3.88888889]\n",
      " [4.44444444 5.        ]]\n"
     ]
    }
   ],
   "source": [
    "vec4 = np.linspace(0,5,10) # the first command is a inclusive starting point, the end command is also inclusive\n",
    "print(vec4)\n",
    "print('')\n",
    "print(vec4.reshape(5,2))"
   ]
  },
  {
   "cell_type": "code",
   "execution_count": 6,
   "metadata": {},
   "outputs": [
    {
     "name": "stdout",
     "output_type": "stream",
     "text": [
      "[[0. 0. 0.]\n",
      " [0. 0. 0.]\n",
      " [0. 0. 0.]\n",
      " [0. 0. 0.]\n",
      " [0. 0. 0.]]\n",
      "\n",
      "[[1. 1. 1. 1. 1.]\n",
      " [1. 1. 1. 1. 1.]\n",
      " [1. 1. 1. 1. 1.]]\n",
      "\n",
      "[[1. 0. 0. 0. 0.]\n",
      " [0. 1. 0. 0. 0.]\n",
      " [0. 0. 1. 0. 0.]\n",
      " [0. 0. 0. 1. 0.]\n",
      " [0. 0. 0. 0. 1.]]\n"
     ]
    }
   ],
   "source": [
    "mat2 = np.zeros([5,3])\n",
    "print(mat2)\n",
    "mat3 = np.ones((3,5))\n",
    "print('')\n",
    "print(mat3)\n",
    "mat4 = np.eye(5)\n",
    "print('')\n",
    "print(mat4)\n"
   ]
  },
  {
   "cell_type": "code",
   "execution_count": 7,
   "metadata": {},
   "outputs": [
    {
     "data": {
      "text/plain": [
       "'Salute To The Mother Earth'"
      ]
     },
     "execution_count": 7,
     "metadata": {},
     "output_type": "execute_result"
    }
   ],
   "source": [
    "Text = \"SALUTE to the Mother EARTH\";\n",
    "Text.title()\n",
    "\n",
    "\n"
   ]
  },
  {
   "cell_type": "code",
   "execution_count": 8,
   "metadata": {},
   "outputs": [
    {
     "name": "stdout",
     "output_type": "stream",
     "text": [
      "[1 2 3 4 5]\n",
      "[3 4 5 6 7]\n",
      "[ 4  6  8 10 12]\n",
      "[ 3  8 15 24 35]\n",
      "[1.         0.5        0.33333333 0.25       0.2       ]\n",
      "[1.73205081 2.         2.23606798 2.44948974 2.64575131]\n"
     ]
    }
   ],
   "source": [
    "# We can +-*/ arrays together if they're the right size \n",
    "\n",
    "vec5 = np.arange(1,6)\n",
    "vec6 = np.arange(3,8)\n",
    "print(vec5)\n",
    "print(vec6)\n",
    "print(vec5+vec6)\n",
    "print(vec5*vec6)\n",
    "print(1/vec5)\n",
    "print(np.sqrt(vec6))"
   ]
  },
  {
   "cell_type": "code",
   "execution_count": 9,
   "metadata": {},
   "outputs": [
    {
     "name": "stdout",
     "output_type": "stream",
     "text": [
      "[[1 2 1]\n",
      " [4 5 9]\n",
      " [1 8 9]]\n",
      "\n",
      "[1 2 3]\n",
      "\n",
      "[ 8 41 44]\n"
     ]
    }
   ],
   "source": [
    "# We can do matrix multiplication \n",
    "print(mat)\n",
    "print('')\n",
    "print(vec)\n",
    "print()\n",
    "product = np.matmul(mat,vec)\n",
    "print(product)"
   ]
  },
  {
   "cell_type": "code",
   "execution_count": 10,
   "metadata": {},
   "outputs": [
    {
     "name": "stdout",
     "output_type": "stream",
     "text": [
      "[1. 2. 3.]\n",
      "\n",
      "[[ 0.5         0.18518519 -0.24074074]\n",
      " [ 0.5        -0.14814815  0.09259259]\n",
      " [-0.5         0.11111111  0.05555556]]\n"
     ]
    }
   ],
   "source": [
    "print(np.linalg.solve(mat,product))\n",
    "print('')\n",
    "print(np.linalg.inv(mat))"
   ]
  },
  {
   "cell_type": "code",
   "execution_count": 11,
   "metadata": {},
   "outputs": [
    {
     "name": "stdout",
     "output_type": "stream",
     "text": [
      "['blue' 'red' 'orange' 'purple' 'purple' 'orange' 'Red' '6']\n",
      "['6' 'Red' 'blue' 'orange' 'purple' 'red']\n"
     ]
    }
   ],
   "source": [
    "# we can find the unique values in an array \n",
    "\n",
    "vec7 = np.array(['blue','red','orange','purple','purple','orange','Red',6])\n",
    "print(vec7)\n",
    "print(np.unique(vec7))"
   ]
  },
  {
   "cell_type": "code",
   "execution_count": 12,
   "metadata": {},
   "outputs": [
    {
     "name": "stdout",
     "output_type": "stream",
     "text": [
      "[[0.81663902 0.60065797 0.2611303  0.34505379 0.25580764]\n",
      " [0.07052764 0.86769679 0.08798464 0.48766798 0.10102595]\n",
      " [0.48519103 0.7586402  0.67818483 0.39551718 0.9050519 ]\n",
      " [0.70706849 0.91190583 0.85314504 0.95787149 0.49173875]\n",
      " [0.03742701 0.86528231 0.55028204 0.53158117 0.56191316]]\n",
      "\n",
      "[[ 0.06247022  1.22644326 -0.17513376  0.82770377  0.20477831]\n",
      " [-0.27954212 -1.11814848  0.29579506  0.67241294  0.60132985]\n",
      " [ 0.20950414 -0.30456159 -0.72411521  0.10946669  0.50771325]\n",
      " [ 0.46606297 -0.08091565 -1.66972001 -1.12617806 -0.1324352 ]\n",
      " [ 1.23658132  1.15210602  1.10725296 -1.71194558 -0.14732322]\n",
      " [-1.44517247  0.79119228  1.08826316 -0.31953354 -0.72490112]\n",
      " [ 0.24173554 -1.34976591 -0.32623926 -0.13151843 -0.04417173]\n",
      " [ 1.00385624 -0.22623477  1.00506613  0.74332084  0.0649372 ]\n",
      " [ 0.64319602  0.37231181  0.1863908   0.87011798  0.6239256 ]\n",
      " [ 0.43058569  0.84675114 -2.54473812 -0.35587942 -1.5792315 ]]\n"
     ]
    }
   ],
   "source": [
    "# We can also use numpy to generate samples of a random variable \n",
    "rand_mat = np.random.rand(5,5) # uniform random variable \n",
    "print(rand_mat)\n",
    "rand_mat2 = np.random.randn(10,5) # standard normal random variable \n",
    "print('')\n",
    "print(rand_mat2)"
   ]
  },
  {
   "cell_type": "code",
   "execution_count": 13,
   "metadata": {},
   "outputs": [
    {
     "name": "stdout",
     "output_type": "stream",
     "text": [
      "0.5433996853161178\n",
      "0.8674783323994173\n"
     ]
    }
   ],
   "source": [
    "# we can also use numpy for statistical tools on arrays \n",
    "\n",
    "print(np.mean(rand_mat))\n",
    "print(np.std(rand_mat2))"
   ]
  },
  {
   "cell_type": "code",
   "execution_count": 14,
   "metadata": {},
   "outputs": [
    {
     "name": "stdout",
     "output_type": "stream",
     "text": [
      "0.03742700908021879\n",
      "1.2365813175519185\n"
     ]
    }
   ],
   "source": [
    "print(np.min(rand_mat))\n",
    "print(np.max(rand_mat2))"
   ]
  },
  {
   "cell_type": "code",
   "execution_count": 15,
   "metadata": {},
   "outputs": [
    {
     "name": "stdout",
     "output_type": "stream",
     "text": [
      "[10 13 16 19]\n"
     ]
    }
   ],
   "source": [
    "vec = np.arange(10,20,3)\n",
    "print(vec)"
   ]
  },
  {
   "cell_type": "code",
   "execution_count": 16,
   "metadata": {},
   "outputs": [
    {
     "name": "stdout",
     "output_type": "stream",
     "text": [
      "[10. 15. 20.]\n"
     ]
    }
   ],
   "source": [
    "vec = np.linspace(10,20,3)\n",
    "print(vec)"
   ]
  },
  {
   "cell_type": "code",
   "execution_count": 17,
   "metadata": {},
   "outputs": [
    {
     "name": "stdout",
     "output_type": "stream",
     "text": [
      "[[ 0  1  2]\n",
      " [ 3  4  5]\n",
      " [ 6  7  8]\n",
      " [ 9 10 11]]\n"
     ]
    }
   ],
   "source": [
    "vec1 = np.arange(0,12)\n",
    "vec2 = vec1.reshape(4,3)\n",
    "print(vec2)"
   ]
  },
  {
   "cell_type": "code",
   "execution_count": 18,
   "metadata": {},
   "outputs": [
    {
     "ename": "SyntaxError",
     "evalue": "invalid syntax (<ipython-input-18-7efcbf00f587>, line 1)",
     "output_type": "error",
     "traceback": [
      "\u001b[1;36m  File \u001b[1;32m\"<ipython-input-18-7efcbf00f587>\"\u001b[1;36m, line \u001b[1;32m1\u001b[0m\n\u001b[1;33m    help(identity matrix)\u001b[0m\n\u001b[1;37m                  ^\u001b[0m\n\u001b[1;31mSyntaxError\u001b[0m\u001b[1;31m:\u001b[0m invalid syntax\n"
     ]
    }
   ],
   "source": [
    "help(identity matrix)"
   ]
  },
  {
   "cell_type": "code",
   "execution_count": 19,
   "metadata": {},
   "outputs": [
    {
     "data": {
      "text/plain": [
       "-1.0"
      ]
     },
     "execution_count": 19,
     "metadata": {},
     "output_type": "execute_result"
    }
   ],
   "source": [
    "np.cos(np.pi)"
   ]
  },
  {
   "cell_type": "code",
   "execution_count": 20,
   "metadata": {},
   "outputs": [
    {
     "data": {
      "text/plain": [
       "54.598150033144236"
      ]
     },
     "execution_count": 20,
     "metadata": {},
     "output_type": "execute_result"
    }
   ],
   "source": [
    "np.exp(4)"
   ]
  },
  {
   "cell_type": "code",
   "execution_count": 21,
   "metadata": {},
   "outputs": [
    {
     "data": {
      "text/plain": [
       "1.791759469228055"
      ]
     },
     "execution_count": 21,
     "metadata": {},
     "output_type": "execute_result"
    }
   ],
   "source": [
    "np.log(6)"
   ]
  },
  {
   "cell_type": "code",
   "execution_count": 22,
   "metadata": {},
   "outputs": [
    {
     "data": {
      "text/plain": [
       "1.2"
      ]
     },
     "execution_count": 22,
     "metadata": {},
     "output_type": "execute_result"
    }
   ],
   "source": [
    "np.sqrt(1.44)"
   ]
  },
  {
   "cell_type": "code",
   "execution_count": 23,
   "metadata": {},
   "outputs": [
    {
     "name": "stdout",
     "output_type": "stream",
     "text": [
      "[ 4  9 14 19]\n"
     ]
    }
   ],
   "source": [
    "arr = np.arange(4,20,5)\n",
    "print(arr)"
   ]
  },
  {
   "cell_type": "code",
   "execution_count": 24,
   "metadata": {},
   "outputs": [
    {
     "name": "stdout",
     "output_type": "stream",
     "text": [
      "[-0.56954562  0.19068896 -1.54416066 -1.06775562 -1.24859499 -1.0321349\n",
      " -1.45342807  1.06250156  1.56904992 -1.05720018 -1.44516381  0.84183896\n",
      " -0.2916515   0.40233778  0.3959843   0.09186925  0.71685554 -1.79694585\n",
      "  0.32157996]\n",
      "-1.4534280664764396\n"
     ]
    }
   ],
   "source": [
    "rand_vec = np.random.randn(19)\n",
    "print(rand_vec)\n",
    "print(rand_vec[6])"
   ]
  },
  {
   "cell_type": "code",
   "execution_count": 25,
   "metadata": {},
   "outputs": [
    {
     "name": "stdout",
     "output_type": "stream",
     "text": [
      "[-1.24859499 -1.0321349  -1.45342807  1.06250156  1.56904992]\n"
     ]
    }
   ],
   "source": [
    "# we can access multiple entries at once using: \n",
    "print(rand_vec[4:9])"
   ]
  },
  {
   "cell_type": "code",
   "execution_count": 26,
   "metadata": {},
   "outputs": [
    {
     "name": "stdout",
     "output_type": "stream",
     "text": [
      "[ 0  3  6  9 12]\n",
      "[-0.56954562 -1.06775562 -1.45342807 -1.05720018 -0.2916515 ]\n"
     ]
    }
   ],
   "source": [
    "# we can also access multiple non-consecutive entries using np.arange\n",
    "print(np.arange(0,15,3))\n",
    "print(rand_vec[np.arange(0,15,3)])"
   ]
  },
  {
   "cell_type": "code",
   "execution_count": 27,
   "metadata": {},
   "outputs": [
    {
     "name": "stdout",
     "output_type": "stream",
     "text": [
      "[[0.81663902 0.60065797 0.2611303  0.34505379 0.25580764]\n",
      " [0.07052764 0.86769679 0.08798464 0.48766798 0.10102595]\n",
      " [0.48519103 0.7586402  0.67818483 0.39551718 0.9050519 ]\n",
      " [0.70706849 0.91190583 0.85314504 0.95787149 0.49173875]\n",
      " [0.03742701 0.86528231 0.55028204 0.53158117 0.56191316]]\n",
      "\n",
      "0.08798463771959253\n",
      "\n",
      "0.08798463771959253\n"
     ]
    }
   ],
   "source": [
    "# what about matrices \n",
    "print(rand_mat)\n",
    "print('')\n",
    "print(rand_mat[1][2])\n",
    "print('')\n",
    "print(rand_mat[1,2])"
   ]
  },
  {
   "cell_type": "code",
   "execution_count": 28,
   "metadata": {},
   "outputs": [
    {
     "name": "stdout",
     "output_type": "stream",
     "text": [
      "[[0.60065797 0.2611303 ]\n",
      " [0.86769679 0.08798464]]\n"
     ]
    }
   ],
   "source": [
    "print(rand_mat[0:2,1:3])"
   ]
  },
  {
   "cell_type": "code",
   "execution_count": 29,
   "metadata": {},
   "outputs": [
    {
     "name": "stdout",
     "output_type": "stream",
     "text": [
      "[-0.56954562  0.19068896 -1.54416066 -1.06775562 -1.24859499 -1.0321349\n",
      " -1.45342807  1.06250156  1.56904992 -1.05720018 -1.44516381  0.84183896\n",
      " -0.2916515   0.40233778  0.3959843   0.09186925  0.71685554 -1.79694585\n",
      "  0.32157996]\n",
      "\n",
      "[-0.56954562  0.19068896 -1.54416066  4.          4.         -1.0321349\n",
      " -1.45342807  1.06250156  1.56904992 -1.05720018 -1.44516381  0.84183896\n",
      " -0.2916515   0.40233778  0.3959843   0.09186925  0.71685554 -1.79694585\n",
      "  0.32157996]\n",
      "\n",
      "[-0.56954562  0.19068896 -1.54416066  1.          2.         -1.0321349\n",
      " -1.45342807  1.06250156  1.56904992 -1.05720018 -1.44516381  0.84183896\n",
      " -0.2916515   0.40233778  0.3959843   0.09186925  0.71685554 -1.79694585\n",
      "  0.32157996]\n"
     ]
    }
   ],
   "source": [
    "# lets change some values in an array! \n",
    "print(rand_vec)\n",
    "# the 5 is exclusive, so the index location values only change for 3 & 4\n",
    "rand_vec[3:5] = 4\n",
    "print('')\n",
    "print(rand_vec)\n",
    "rand_vec[3:5] = [1,2]\n",
    "print('')\n",
    "print(rand_vec)"
   ]
  },
  {
   "cell_type": "code",
   "execution_count": 30,
   "metadata": {},
   "outputs": [
    {
     "name": "stdout",
     "output_type": "stream",
     "text": [
      "[[0.81663902 0.60065797 0.2611303  0.34505379 0.25580764]\n",
      " [0.07052764 0.86769679 0.08798464 0.48766798 0.10102595]\n",
      " [0.48519103 0.7586402  0.67818483 0.39551718 0.9050519 ]\n",
      " [0.70706849 0.91190583 0.85314504 0.95787149 0.49173875]\n",
      " [0.03742701 0.86528231 0.55028204 0.53158117 0.56191316]]\n",
      "\n",
      "[[0.81663902 0.60065797 0.2611303  0.34505379 0.25580764]\n",
      " [0.07052764 0.86769679 0.08798464 0.         0.        ]\n",
      " [0.48519103 0.7586402  0.67818483 0.         0.        ]\n",
      " [0.70706849 0.91190583 0.85314504 0.95787149 0.49173875]\n",
      " [0.03742701 0.86528231 0.55028204 0.53158117 0.56191316]]\n"
     ]
    }
   ],
   "source": [
    "print(rand_mat)\n",
    "rand_mat[1:3,3:5] = 0\n",
    "print('')\n",
    "print(rand_mat)"
   ]
  },
  {
   "cell_type": "code",
   "execution_count": 31,
   "metadata": {},
   "outputs": [
    {
     "name": "stdout",
     "output_type": "stream",
     "text": [
      "[[0.81663902 0.60065797 0.2611303 ]\n",
      " [0.07052764 0.86769679 0.08798464]]\n",
      "[[3. 3. 3.]\n",
      " [3. 3. 3.]]\n"
     ]
    }
   ],
   "source": [
    "sub_mat = rand_mat[0:2,0:3]\n",
    "print(sub_mat)\n",
    "sub_mat[:] = 3\n",
    "# [:] means every single value in sub_mat should be changed to 3\n",
    "print(sub_mat)"
   ]
  },
  {
   "cell_type": "code",
   "execution_count": 32,
   "metadata": {},
   "outputs": [
    {
     "name": "stdout",
     "output_type": "stream",
     "text": [
      "[[3.         3.         3.         0.34505379 0.25580764]\n",
      " [3.         3.         3.         0.         0.        ]\n",
      " [0.48519103 0.7586402  0.67818483 0.         0.        ]\n",
      " [0.70706849 0.91190583 0.85314504 0.95787149 0.49173875]\n",
      " [0.03742701 0.86528231 0.55028204 0.53158117 0.56191316]]\n"
     ]
    }
   ],
   "source": [
    "print(rand_mat)"
   ]
  },
  {
   "cell_type": "code",
   "execution_count": 33,
   "metadata": {},
   "outputs": [
    {
     "name": "stdout",
     "output_type": "stream",
     "text": [
      "[[99. 99. 99.]\n",
      " [99. 99. 99.]]\n",
      "[[3.         3.         3.         0.34505379 0.25580764]\n",
      " [3.         3.         3.         0.         0.        ]\n",
      " [0.48519103 0.7586402  0.67818483 0.         0.        ]\n",
      " [0.70706849 0.91190583 0.85314504 0.95787149 0.49173875]\n",
      " [0.03742701 0.86528231 0.55028204 0.53158117 0.56191316]]\n"
     ]
    }
   ],
   "source": [
    "# In list's and using numpy, when you assign a matrix to a new matrix and you modify the new matrix then the values in the \n",
    "# original matrix are modified. This is avoided by using the .copy command \n",
    "\n",
    "sub_mat2 = rand_mat[0:2,0:3].copy()\n",
    "sub_mat2[:] = 99\n",
    "print(sub_mat2)\n",
    "print(rand_mat)"
   ]
  },
  {
   "cell_type": "code",
   "execution_count": 34,
   "metadata": {},
   "outputs": [
    {
     "name": "stdout",
     "output_type": "stream",
     "text": [
      "[10 13 16 19]\n"
     ]
    }
   ],
   "source": [
    "vec = np.arange(10,20)\n",
    "vec2 = vec[np.arange(0,10,3)]\n",
    "print(vec2)"
   ]
  },
  {
   "cell_type": "code",
   "execution_count": 35,
   "metadata": {},
   "outputs": [
    {
     "name": "stdout",
     "output_type": "stream",
     "text": [
      "5\n"
     ]
    }
   ],
   "source": [
    "matrix = np.array([[1,2,3],[4,5,6],[7,8,9]])\n",
    "print(matrix[1][1])"
   ]
  },
  {
   "cell_type": "code",
   "execution_count": 38,
   "metadata": {},
   "outputs": [],
   "source": [
    "# lets save some arrays on th disk for use later!\n",
    "\n",
    "np.save('saved_file_name', rand_mat2)\n",
    "# the file gets saved in your working directory \n",
    "    "
   ]
  },
  {
   "cell_type": "code",
   "execution_count": 39,
   "metadata": {},
   "outputs": [],
   "source": [
    "# Save multiple arrays in a zip file \n",
    "#  (the string name for the file) --> rand_mat = rand_mat <-- (the name of the np array)\n",
    "np.savez('zipped_file_name',rand_mat=rand_mat, rand_mat2=rand_mat2)"
   ]
  },
  {
   "cell_type": "code",
   "execution_count": 40,
   "metadata": {},
   "outputs": [
    {
     "name": "stdout",
     "output_type": "stream",
     "text": [
      "[[ 0.06247022  1.22644326 -0.17513376  0.82770377  0.20477831]\n",
      " [-0.27954212 -1.11814848  0.29579506  0.67241294  0.60132985]\n",
      " [ 0.20950414 -0.30456159 -0.72411521  0.10946669  0.50771325]\n",
      " [ 0.46606297 -0.08091565 -1.66972001 -1.12617806 -0.1324352 ]\n",
      " [ 1.23658132  1.15210602  1.10725296 -1.71194558 -0.14732322]\n",
      " [-1.44517247  0.79119228  1.08826316 -0.31953354 -0.72490112]\n",
      " [ 0.24173554 -1.34976591 -0.32623926 -0.13151843 -0.04417173]\n",
      " [ 1.00385624 -0.22623477  1.00506613  0.74332084  0.0649372 ]\n",
      " [ 0.64319602  0.37231181  0.1863908   0.87011798  0.6239256 ]\n",
      " [ 0.43058569  0.84675114 -2.54473812 -0.35587942 -1.5792315 ]]\n",
      "\n",
      "<numpy.lib.npyio.NpzFile object at 0x0013AB08>\n"
     ]
    }
   ],
   "source": [
    "# now let's load it \n",
    "loaded_vec = np.load('saved_file_name.npy')\n",
    "loaded_zip = np.load('zipped_file_name.npz')\n",
    "\n",
    "print(loaded_vec)\n",
    "print('')\n",
    "print(loaded_zip)"
   ]
  },
  {
   "cell_type": "code",
   "execution_count": 43,
   "metadata": {},
   "outputs": [
    {
     "name": "stdout",
     "output_type": "stream",
     "text": [
      "[[3.         3.         3.         0.34505379 0.25580764]\n",
      " [3.         3.         3.         0.         0.        ]\n",
      " [0.48519103 0.7586402  0.67818483 0.         0.        ]\n",
      " [0.70706849 0.91190583 0.85314504 0.95787149 0.49173875]\n",
      " [0.03742701 0.86528231 0.55028204 0.53158117 0.56191316]]\n",
      "\n",
      "[[ 0.06247022  1.22644326 -0.17513376  0.82770377  0.20477831]\n",
      " [-0.27954212 -1.11814848  0.29579506  0.67241294  0.60132985]\n",
      " [ 0.20950414 -0.30456159 -0.72411521  0.10946669  0.50771325]\n",
      " [ 0.46606297 -0.08091565 -1.66972001 -1.12617806 -0.1324352 ]\n",
      " [ 1.23658132  1.15210602  1.10725296 -1.71194558 -0.14732322]\n",
      " [-1.44517247  0.79119228  1.08826316 -0.31953354 -0.72490112]\n",
      " [ 0.24173554 -1.34976591 -0.32623926 -0.13151843 -0.04417173]\n",
      " [ 1.00385624 -0.22623477  1.00506613  0.74332084  0.0649372 ]\n",
      " [ 0.64319602  0.37231181  0.1863908   0.87011798  0.6239256 ]\n",
      " [ 0.43058569  0.84675114 -2.54473812 -0.35587942 -1.5792315 ]]\n",
      "[[3.         3.         3.         0.34505379 0.25580764]\n",
      " [3.         3.         3.         0.         0.        ]\n",
      " [0.48519103 0.7586402  0.67818483 0.         0.        ]\n",
      " [0.70706849 0.91190583 0.85314504 0.95787149 0.49173875]\n",
      " [0.03742701 0.86528231 0.55028204 0.53158117 0.56191316]]\n"
     ]
    }
   ],
   "source": [
    "print(loaded_zip['rand_mat'])\n",
    "print('')\n",
    "print(loaded_zip['rand_mat2'])\n",
    "\n",
    "new_array = loaded_zip['rand_mat']\n",
    "print(new_array)"
   ]
  },
  {
   "cell_type": "code",
   "execution_count": 44,
   "metadata": {},
   "outputs": [
    {
     "name": "stdout",
     "output_type": "stream",
     "text": [
      "[[3.         3.         3.         0.34505379 0.25580764]\n",
      " [3.         3.         3.         0.         0.        ]\n",
      " [0.48519103 0.7586402  0.67818483 0.         0.        ]\n",
      " [0.70706849 0.91190583 0.85314504 0.95787149 0.49173875]\n",
      " [0.03742701 0.86528231 0.55028204 0.53158117 0.56191316]]\n",
      "\n",
      "[[3.         3.         3.         0.34505379 0.25580764]\n",
      " [3.         3.         3.         0.         0.        ]\n",
      " [0.48519103 0.7586402  0.67818483 0.         0.        ]\n",
      " [0.70706849 0.91190583 0.85314504 0.95787149 0.49173875]\n",
      " [0.03742701 0.86528231 0.55028204 0.53158117 0.56191316]]\n"
     ]
    }
   ],
   "source": [
    "# we can also save/load as text files.. but only single variables \n",
    "\n",
    "np.savetxt('text_file_name',rand_mat,delimiter=',')\n",
    "rand_mat_txt = np.loadtxt('text_file_name', delimiter=',')\n",
    "print(rand_mat)\n",
    "print('')\n",
    "print(rand_mat_txt)"
   ]
  },
  {
   "cell_type": "code",
   "execution_count": 45,
   "metadata": {},
   "outputs": [
    {
     "name": "stdout",
     "output_type": "stream",
     "text": [
      "[ 7  8  9 10]\n"
     ]
    }
   ],
   "source": [
    "vec = np.array([4,7,8,9,10,6,1])\n",
    "print(vec[vec>6])"
   ]
  },
  {
   "cell_type": "code",
   "execution_count": 48,
   "metadata": {},
   "outputs": [
    {
     "name": "stdout",
     "output_type": "stream",
     "text": [
      "[0 1 2 3 4 5 6 2 2 2 2 2]\n"
     ]
    }
   ],
   "source": [
    "vec = np.array([4,7,8,9,10,6,1])\n",
    "vec1[vec1>6] =2\n",
    "print(vec1)"
   ]
  },
  {
   "cell_type": "code",
   "execution_count": null,
   "metadata": {},
   "outputs": [],
   "source": []
  }
 ],
 "metadata": {
  "kernelspec": {
   "display_name": "Python 3",
   "language": "python",
   "name": "python3"
  },
  "language_info": {
   "codemirror_mode": {
    "name": "ipython",
    "version": 3
   },
   "file_extension": ".py",
   "mimetype": "text/x-python",
   "name": "python",
   "nbconvert_exporter": "python",
   "pygments_lexer": "ipython3",
   "version": "3.8.5"
  }
 },
 "nbformat": 4,
 "nbformat_minor": 4
}
